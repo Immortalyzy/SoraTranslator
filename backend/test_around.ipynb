{
 "cells": [
  {
   "cell_type": "code",
   "execution_count": 2,
   "metadata": {},
   "outputs": [
    {
     "name": "stdout",
     "output_type": "stream",
     "text": [
      "Line content: First line of text\n",
      "Belongs to file: <gamefile.File object at 0x0000012C314D8E20>\n",
      "Belongs to block: <block.Block object at 0x0000012C3146C370>\n"
     ]
    }
   ],
   "source": [
    "from gamefile import File\n",
    "from block import Block\n",
    "from line import Line\n",
    "\n",
    "# Create a File instance\n",
    "my_file = File()\n",
    "\n",
    "# Create a Block instance and associate it with the File\n",
    "my_block = Block(my_file)\n",
    "\n",
    "# Add the Block to the File\n",
    "my_file.add_block(my_block)\n",
    "\n",
    "# Add a Line to the Block\n",
    "# The Line is automatically associated with the Block and the File\n",
    "my_block.add_line(Line(\"First line of text\", my_block, my_file))\n",
    "\n",
    "# Now, the Line object within my_block has references to both the Block and the File\n",
    "# You can access these references through the Line object\n",
    "first_line = my_block.lines[0]\n",
    "print(f\"Line content: {first_line.get_content()}\")\n",
    "print(f\"Belongs to file: {first_line.parent_file}\")\n",
    "print(f\"Belongs to block: {first_line.parent_block}\")\n"
   ]
  }
 ],
 "metadata": {
  "kernelspec": {
   "display_name": "base",
   "language": "python",
   "name": "python3"
  },
  "language_info": {
   "codemirror_mode": {
    "name": "ipython",
    "version": 3
   },
   "file_extension": ".py",
   "mimetype": "text/x-python",
   "name": "python",
   "nbconvert_exporter": "python",
   "pygments_lexer": "ipython3",
   "version": "3.9.12"
  },
  "orig_nbformat": 4
 },
 "nbformat": 4,
 "nbformat_minor": 2
}
